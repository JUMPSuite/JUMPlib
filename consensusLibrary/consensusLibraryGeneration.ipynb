{
 "cells": [
  {
   "cell_type": "code",
   "execution_count": 1,
   "metadata": {},
   "outputs": [],
   "source": [
    "import pandas as pd\n",
    "import os, sys, glob\n",
    "from consensusTarget import *\n",
    "from consensusDecoy import *\n",
    "from idtxtMs2ModsFunctions import *\n",
    "from RTfunctions import *\n",
    "import re\n",
    "import collections #for ordering the dictionary\n",
    "import pickle\n",
    "import fileinput\n",
    "\n",
    "import configparser\n",
    "config = configparser.ConfigParser()\n"
   ]
  },
  {
   "cell_type": "code",
   "execution_count": 10,
   "metadata": {},
   "outputs": [],
   "source": [
    "# # Read the parameter file using configparser\n",
    "\n",
    "params_file = \"specLib.params\""
   ]
  },
  {
   "cell_type": "code",
   "execution_count": 11,
   "metadata": {},
   "outputs": [
    {
     "data": {
      "text/plain": [
       "['specLib.params']"
      ]
     },
     "execution_count": 11,
     "metadata": {},
     "output_type": "execute_result"
    }
   ],
   "source": [
    "config.read(params_file)"
   ]
  },
  {
   "cell_type": "code",
   "execution_count": 12,
   "metadata": {},
   "outputs": [],
   "source": [
    "#unimod modification information\n",
    "unimod_modPklFile = config[\"specLib\"][\"unimod_modPklFile\"]\n",
    " \n",
    "#example pepxml file to parse the modification information\n",
    "pepxml = config[\"specLib\"][\"pepxml\"]\n",
    "#results directory where mass correction results are present\n",
    "resultsDirectory = config[\"specLib\"][\"resultsDirectory\"]\n",
    "#jump -f results ID.txt\n",
    "idtxt = config[\"specLib\"][\"jump_f_dyn\"]\n",
    "#mzxml path that contains folder that have mzxml files\n",
    "mzxml_path = config[\"specLib\"][\"mzxml_path\"]\n",
    "\n",
    "#Output folder name that contains spectral library files\n",
    "specLibFolder = config[\"specLib\"][\"specLibFolder\"]\n",
    "\n",
    "#decoy generation distance\n",
    "distanceDecoy = float(config[\"specLib\"][\"distanceDecoy\"])"
   ]
  },
  {
   "cell_type": "code",
   "execution_count": 5,
   "metadata": {},
   "outputs": [],
   "source": [
    "#get the unimod ptm dictionary unimod_mod_infor using the pickle file from unimod\n",
    "with open(unimod_modPklFile, 'rb') as unimod_handle:\n",
    "    unimod_mod_infor = pickle.load(unimod_handle)"
   ]
  },
  {
   "cell_type": "code",
   "execution_count": 6,
   "metadata": {},
   "outputs": [],
   "source": [
    "jump_modAA_dict, jump_mod_dict, sta_AA = getDynStatModsInfoPepXml(pepxml)"
   ]
  },
  {
   "cell_type": "code",
   "execution_count": 13,
   "metadata": {},
   "outputs": [],
   "source": [
    "ms2List = glob.glob(resultsDirectory+\"/ms2/*.theo.ms2pep\") #all theoretical ions for consensus\n",
    "#idtxt = \"sum_jumpf/ID.txt\"  #this we need for advanced annotation of L in ms2 file after consensus\n",
    "mzXMLs = glob.glob(mzxml_path+\"/*/*.mzXML\")\n"
   ]
  },
  {
   "cell_type": "code",
   "execution_count": 14,
   "metadata": {},
   "outputs": [
    {
     "name": "stdout",
     "output_type": "stream",
     "text": [
      "  Extraction and assignment of RTs to the identified PSMs\n",
      "  =======================================================\n",
      "  Read ID.txt file: to extract PSM information\n",
      "  Done ...\n",
      "  RT of every identified peptide in FTLD_Batch2_F51 is being inferred and assigned\n",
      "  Progress: [####################] 100% Done...\n",
      "  RT of every identified peptide in FTLD_Batch2_F50 is being inferred and assigned\n",
      "  Progress: [####################] 100% Done...\n",
      "  RT of every identified peptide in FTLD_Batch2_F52 is being inferred and assigned\n",
      "  Progress: [####################] 100% Done...\n",
      "\n",
      "  Alignment and calibration of RTs over multiple runs\n",
      "  ===================================================\n",
      "  FTLD_Batch2_F51 is set to the initial reference for RT-alignment\n",
      "  The RTs in FTLD_Batch2_F50 are being aligned and calibrated\n",
      "  The RTs in FTLD_Batch2_F52 are being aligned and calibrated\n",
      "  Done ...\n",
      "\n"
     ]
    }
   ],
   "source": [
    "#Get RT information\n",
    "#this is now changed based on Ji-Hoon's new program\n",
    "mzRT_dict = getRT(idtxt,mzXMLs)"
   ]
  },
  {
   "cell_type": "code",
   "execution_count": 15,
   "metadata": {},
   "outputs": [
    {
     "name": "stdout",
     "output_type": "stream",
     "text": [
      "  All ms2 are now stored as dictionary\n",
      "  Working with  /Users/spoudel1/Desktop/JUMP_specLib/Program/finalProgram/JUMPp-lib/MassCalResults/ms2/FTLD_Batch2_F50.theo.ms2pep \n",
      "\n",
      "  Done for ...  /Users/spoudel1/Desktop/JUMP_specLib/Program/finalProgram/JUMPp-lib/MassCalResults/ms2/FTLD_Batch2_F50.theo.ms2pep \n",
      "\n",
      "  Working with  /Users/spoudel1/Desktop/JUMP_specLib/Program/finalProgram/JUMPp-lib/MassCalResults/ms2/FTLD_Batch2_F51.theo.ms2pep \n",
      "\n",
      "  Done for ...  /Users/spoudel1/Desktop/JUMP_specLib/Program/finalProgram/JUMPp-lib/MassCalResults/ms2/FTLD_Batch2_F51.theo.ms2pep \n",
      "\n",
      "  Working with  /Users/spoudel1/Desktop/JUMP_specLib/Program/finalProgram/JUMPp-lib/MassCalResults/ms2/FTLD_Batch2_F52.theo.ms2pep \n",
      "\n",
      "  Done for ...  /Users/spoudel1/Desktop/JUMP_specLib/Program/finalProgram/JUMPp-lib/MassCalResults/ms2/FTLD_Batch2_F52.theo.ms2pep \n",
      "\n",
      "  Constructing a consensus table for unique psms\n",
      "\n",
      "Done ...\n",
      "\n",
      "  psms consolidation begin\n",
      "  Top 10 psms from all fractions are now consolidated\n",
      "\n"
     ]
    }
   ],
   "source": [
    "psmsDict,precDict = ms2fileToDict(ms2List)\n",
    "\n",
    "idtxtConsensus2 = cosensusPSMTable(idtxt, psmsDict, precDict, jump_modAA_dict, jump_mod_dict, sta_AA, unimod_mod_infor,mzRT_dict)\n",
    "\n",
    "idtxtConsensus3 = psmConsolidate(idtxtConsensus2)"
   ]
  },
  {
   "cell_type": "code",
   "execution_count": 16,
   "metadata": {},
   "outputs": [],
   "source": [
    "#make directory spectral library folder\n",
    "cmd1 = \"mkdir \"+specLibFolder\n",
    "try:\n",
    "  os.system(cmd1)\n",
    "except:\n",
    "  pass"
   ]
  },
  {
   "cell_type": "code",
   "execution_count": 17,
   "metadata": {},
   "outputs": [
    {
     "name": "stdout",
     "output_type": "stream",
     "text": [
      "  Generating .ms2 files\n",
      "\n",
      "  now = 2021-04-27 21:52:09.186791\n",
      "  Target IDs spectral library is being created /Users/spoudel1/Desktop/JUMP_specLib/Program/finalProgram/specLib/Spectral_Library_theo_mz_exp_intensity.spLib\n",
      "  Done ...\n",
      "\n",
      "  Generating .ms2 files\n",
      "\n",
      "  now = 2021-04-27 21:52:10.952889\n",
      "  Decoy spectral library is being created\n",
      "  Done ...\n",
      "\n"
     ]
    }
   ],
   "source": [
    "targetDF = createMS2EachPSMS_L_ID(idtxtConsensus3, specLibFolder)\n",
    "\n",
    "decoySpecLibrary(targetDF, specLibFolder, distanceDecoy)\n"
   ]
  },
  {
   "cell_type": "code",
   "execution_count": 18,
   "metadata": {},
   "outputs": [],
   "source": [
    "specLib = specLibFolder+\"/Spectral_Library_theo_mz_exp_intensity.spLib\"\n",
    "decoyLib = specLibFolder+\"/Spectral_Library_Decoy.spLib\"\n",
    "outfilename = specLibFolder+\"/SpectralLibraryTargetDecoy.spLib\"\n"
   ]
  },
  {
   "cell_type": "code",
   "execution_count": 19,
   "metadata": {},
   "outputs": [],
   "source": [
    "filenames = [specLib,decoyLib]"
   ]
  },
  {
   "cell_type": "code",
   "execution_count": 20,
   "metadata": {},
   "outputs": [],
   "source": [
    "#concatenate two spectral library\n",
    "with open(outfilename, 'w') as fout, fileinput.input(filenames) as fin:\n",
    "    for line in fin:\n",
    "        fout.write(line)\n"
   ]
  },
  {
   "cell_type": "code",
   "execution_count": null,
   "metadata": {},
   "outputs": [],
   "source": []
  }
 ],
 "metadata": {
  "kernelspec": {
   "display_name": "Python 3",
   "language": "python",
   "name": "python3"
  },
  "language_info": {
   "codemirror_mode": {
    "name": "ipython",
    "version": 3
   },
   "file_extension": ".py",
   "mimetype": "text/x-python",
   "name": "python",
   "nbconvert_exporter": "python",
   "pygments_lexer": "ipython3",
   "version": "3.8.1"
  }
 },
 "nbformat": 4,
 "nbformat_minor": 5
}
